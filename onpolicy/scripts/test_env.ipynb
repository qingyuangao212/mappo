{
 "cells": [
  {
   "cell_type": "code",
   "execution_count": 3,
   "metadata": {
    "collapsed": true
   },
   "outputs": [],
   "source": [
    "from gfootball.env import create_environment"
   ]
  },
  {
   "cell_type": "code",
   "execution_count": 4,
   "outputs": [],
   "source": [
    "env = create_environment(\"academy_3_vs_1_with_keeper\",\n",
    "                                    number_of_left_players_agent_controls=3,\n",
    "                                    number_of_right_players_agent_controls=0,\n",
    "                                    representation='simple115v2',\n",
    "                                    rewards='scoring,checkpoints')"
   ],
   "metadata": {
    "collapsed": false,
    "pycharm": {
     "name": "#%%\n"
    }
   }
  },
  {
   "cell_type": "code",
   "execution_count": 5,
   "outputs": [],
   "source": [
    "obs = env.reset()"
   ],
   "metadata": {
    "collapsed": false,
    "pycharm": {
     "name": "#%%\n"
    }
   }
  },
  {
   "cell_type": "code",
   "execution_count": 6,
   "outputs": [],
   "source": [
    "obs, rewards, dones, infos  = env.step(env.action_space.sample())"
   ],
   "metadata": {
    "collapsed": false,
    "pycharm": {
     "name": "#%%\n"
    }
   }
  },
  {
   "cell_type": "code",
   "execution_count": 9,
   "outputs": [
    {
     "data": {
      "text/plain": "array([[-1.0110294e+00, -0.0000000e+00,  6.0996068e-01,  1.0188846e-03,\n         7.0772058e-01,  2.0325357e-01,  7.0772058e-01, -2.0325357e-01,\n        -1.0000000e+00, -1.0000000e+00, -1.0000000e+00, -1.0000000e+00,\n        -1.0000000e+00, -1.0000000e+00, -1.0000000e+00, -1.0000000e+00,\n        -1.0000000e+00, -1.0000000e+00, -1.0000000e+00, -1.0000000e+00,\n        -1.0000000e+00, -1.0000000e+00,  0.0000000e+00, -0.0000000e+00,\n         2.8987397e-03,  1.3313229e-03,  0.0000000e+00, -0.0000000e+00,\n         0.0000000e+00, -0.0000000e+00, -1.0000000e+00, -1.0000000e+00,\n        -1.0000000e+00, -1.0000000e+00, -1.0000000e+00, -1.0000000e+00,\n        -1.0000000e+00, -1.0000000e+00, -1.0000000e+00, -1.0000000e+00,\n        -1.0000000e+00, -1.0000000e+00, -1.0000000e+00, -1.0000000e+00,\n         1.0110294e+00,  0.0000000e+00,  7.5659716e-01, -1.2935547e-11,\n        -1.0000000e+00, -1.0000000e+00, -1.0000000e+00, -1.0000000e+00,\n        -1.0000000e+00, -1.0000000e+00, -1.0000000e+00, -1.0000000e+00,\n        -1.0000000e+00, -1.0000000e+00, -1.0000000e+00, -1.0000000e+00,\n        -1.0000000e+00, -1.0000000e+00, -1.0000000e+00, -1.0000000e+00,\n        -1.0000000e+00, -1.0000000e+00, -0.0000000e+00,  0.0000000e+00,\n        -3.5587479e-03, -2.4745157e-11, -1.0000000e+00, -1.0000000e+00,\n        -1.0000000e+00, -1.0000000e+00, -1.0000000e+00, -1.0000000e+00,\n        -1.0000000e+00, -1.0000000e+00, -1.0000000e+00, -1.0000000e+00,\n        -1.0000000e+00, -1.0000000e+00, -1.0000000e+00, -1.0000000e+00,\n        -1.0000000e+00, -1.0000000e+00, -1.0000000e+00, -1.0000000e+00,\n         6.2000000e-01, -0.0000000e+00,  1.1059734e-01,  0.0000000e+00,\n        -0.0000000e+00, -1.9182914e-03,  1.0000000e+00,  0.0000000e+00,\n         0.0000000e+00,  0.0000000e+00,  1.0000000e+00,  0.0000000e+00,\n         0.0000000e+00,  0.0000000e+00,  0.0000000e+00,  0.0000000e+00,\n         0.0000000e+00,  0.0000000e+00,  0.0000000e+00,  0.0000000e+00,\n         1.0000000e+00,  0.0000000e+00,  0.0000000e+00,  0.0000000e+00,\n         0.0000000e+00,  0.0000000e+00,  0.0000000e+00],\n       [-1.0110294e+00, -0.0000000e+00,  6.0996068e-01,  1.0188846e-03,\n         7.0772058e-01,  2.0325357e-01,  7.0772058e-01, -2.0325357e-01,\n        -1.0000000e+00, -1.0000000e+00, -1.0000000e+00, -1.0000000e+00,\n        -1.0000000e+00, -1.0000000e+00, -1.0000000e+00, -1.0000000e+00,\n        -1.0000000e+00, -1.0000000e+00, -1.0000000e+00, -1.0000000e+00,\n        -1.0000000e+00, -1.0000000e+00,  0.0000000e+00, -0.0000000e+00,\n         2.8987397e-03,  1.3313229e-03,  0.0000000e+00, -0.0000000e+00,\n         0.0000000e+00, -0.0000000e+00, -1.0000000e+00, -1.0000000e+00,\n        -1.0000000e+00, -1.0000000e+00, -1.0000000e+00, -1.0000000e+00,\n        -1.0000000e+00, -1.0000000e+00, -1.0000000e+00, -1.0000000e+00,\n        -1.0000000e+00, -1.0000000e+00, -1.0000000e+00, -1.0000000e+00,\n         1.0110294e+00,  0.0000000e+00,  7.5659716e-01, -1.2935547e-11,\n        -1.0000000e+00, -1.0000000e+00, -1.0000000e+00, -1.0000000e+00,\n        -1.0000000e+00, -1.0000000e+00, -1.0000000e+00, -1.0000000e+00,\n        -1.0000000e+00, -1.0000000e+00, -1.0000000e+00, -1.0000000e+00,\n        -1.0000000e+00, -1.0000000e+00, -1.0000000e+00, -1.0000000e+00,\n        -1.0000000e+00, -1.0000000e+00, -0.0000000e+00,  0.0000000e+00,\n        -3.5587479e-03, -2.4745157e-11, -1.0000000e+00, -1.0000000e+00,\n        -1.0000000e+00, -1.0000000e+00, -1.0000000e+00, -1.0000000e+00,\n        -1.0000000e+00, -1.0000000e+00, -1.0000000e+00, -1.0000000e+00,\n        -1.0000000e+00, -1.0000000e+00, -1.0000000e+00, -1.0000000e+00,\n        -1.0000000e+00, -1.0000000e+00, -1.0000000e+00, -1.0000000e+00,\n         6.2000000e-01, -0.0000000e+00,  1.1059734e-01,  0.0000000e+00,\n        -0.0000000e+00, -1.9182914e-03,  1.0000000e+00,  0.0000000e+00,\n         0.0000000e+00,  0.0000000e+00,  0.0000000e+00,  1.0000000e+00,\n         0.0000000e+00,  0.0000000e+00,  0.0000000e+00,  0.0000000e+00,\n         0.0000000e+00,  0.0000000e+00,  0.0000000e+00,  0.0000000e+00,\n         1.0000000e+00,  0.0000000e+00,  0.0000000e+00,  0.0000000e+00,\n         0.0000000e+00,  0.0000000e+00,  0.0000000e+00],\n       [-1.0110294e+00, -0.0000000e+00,  6.0996068e-01,  1.0188846e-03,\n         7.0772058e-01,  2.0325357e-01,  7.0772058e-01, -2.0325357e-01,\n        -1.0000000e+00, -1.0000000e+00, -1.0000000e+00, -1.0000000e+00,\n        -1.0000000e+00, -1.0000000e+00, -1.0000000e+00, -1.0000000e+00,\n        -1.0000000e+00, -1.0000000e+00, -1.0000000e+00, -1.0000000e+00,\n        -1.0000000e+00, -1.0000000e+00,  0.0000000e+00, -0.0000000e+00,\n         2.8987397e-03,  1.3313229e-03,  0.0000000e+00, -0.0000000e+00,\n         0.0000000e+00, -0.0000000e+00, -1.0000000e+00, -1.0000000e+00,\n        -1.0000000e+00, -1.0000000e+00, -1.0000000e+00, -1.0000000e+00,\n        -1.0000000e+00, -1.0000000e+00, -1.0000000e+00, -1.0000000e+00,\n        -1.0000000e+00, -1.0000000e+00, -1.0000000e+00, -1.0000000e+00,\n         1.0110294e+00,  0.0000000e+00,  7.5659716e-01, -1.2935547e-11,\n        -1.0000000e+00, -1.0000000e+00, -1.0000000e+00, -1.0000000e+00,\n        -1.0000000e+00, -1.0000000e+00, -1.0000000e+00, -1.0000000e+00,\n        -1.0000000e+00, -1.0000000e+00, -1.0000000e+00, -1.0000000e+00,\n        -1.0000000e+00, -1.0000000e+00, -1.0000000e+00, -1.0000000e+00,\n        -1.0000000e+00, -1.0000000e+00, -0.0000000e+00,  0.0000000e+00,\n        -3.5587479e-03, -2.4745157e-11, -1.0000000e+00, -1.0000000e+00,\n        -1.0000000e+00, -1.0000000e+00, -1.0000000e+00, -1.0000000e+00,\n        -1.0000000e+00, -1.0000000e+00, -1.0000000e+00, -1.0000000e+00,\n        -1.0000000e+00, -1.0000000e+00, -1.0000000e+00, -1.0000000e+00,\n        -1.0000000e+00, -1.0000000e+00, -1.0000000e+00, -1.0000000e+00,\n         6.2000000e-01, -0.0000000e+00,  1.1059734e-01,  0.0000000e+00,\n        -0.0000000e+00, -1.9182914e-03,  1.0000000e+00,  0.0000000e+00,\n         0.0000000e+00,  0.0000000e+00,  0.0000000e+00,  0.0000000e+00,\n         1.0000000e+00,  0.0000000e+00,  0.0000000e+00,  0.0000000e+00,\n         0.0000000e+00,  0.0000000e+00,  0.0000000e+00,  0.0000000e+00,\n         1.0000000e+00,  0.0000000e+00,  0.0000000e+00,  0.0000000e+00,\n         0.0000000e+00,  0.0000000e+00,  0.0000000e+00]], dtype=float32)"
     },
     "execution_count": 9,
     "metadata": {},
     "output_type": "execute_result"
    }
   ],
   "source": [
    "obs"
   ],
   "metadata": {
    "collapsed": false,
    "pycharm": {
     "name": "#%%\n"
    }
   }
  },
  {
   "cell_type": "code",
   "execution_count": 7,
   "outputs": [
    {
     "data": {
      "text/plain": "False"
     },
     "execution_count": 7,
     "metadata": {},
     "output_type": "execute_result"
    }
   ],
   "source": [
    "dones"
   ],
   "metadata": {
    "collapsed": false,
    "pycharm": {
     "name": "#%%\n"
    }
   }
  },
  {
   "cell_type": "code",
   "execution_count": 11,
   "outputs": [
    {
     "data": {
      "text/plain": "False"
     },
     "execution_count": 11,
     "metadata": {},
     "output_type": "execute_result"
    }
   ],
   "source": [
    "dones"
   ],
   "metadata": {
    "collapsed": false,
    "pycharm": {
     "name": "#%%\n"
    }
   }
  },
  {
   "cell_type": "code",
   "execution_count": 10,
   "outputs": [
    {
     "data": {
      "text/plain": "True"
     },
     "execution_count": 10,
     "metadata": {},
     "output_type": "execute_result"
    }
   ],
   "source": [
    "import numpy as np\n",
    "np.any([True, False, False])"
   ],
   "metadata": {
    "collapsed": false,
    "pycharm": {
     "name": "#%%\n"
    }
   }
  },
  {
   "cell_type": "code",
   "execution_count": 5,
   "outputs": [
    {
     "name": "stdout",
     "output_type": "stream",
     "text": [
      "True\n",
      "{'score_reward': 0}\n",
      "37\n"
     ]
    }
   ],
   "source": [
    "obs = env.reset()\n",
    "ep = 1\n",
    "obs, rewards, dones, infos  = env.step(env.action_space.sample())\n",
    "while len(infos)==1:\n",
    "    obs, rewards, dones, infos  = env.step(env.action_space.sample())\n",
    "    ep+=1\n",
    "    if dones:\n",
    "        break\n",
    "\n",
    "print(dones)\n",
    "print(infos)\n",
    "print(ep)"
   ],
   "metadata": {
    "collapsed": false,
    "pycharm": {
     "name": "#%%\n"
    }
   }
  },
  {
   "cell_type": "code",
   "execution_count": 16,
   "outputs": [
    {
     "ename": "AssertionError",
     "evalue": "Cant call step() once episode finished (call reset() instead)",
     "output_type": "error",
     "traceback": [
      "\u001B[0;31m---------------------------------------------------------------------------\u001B[0m",
      "\u001B[0;31mAssertionError\u001B[0m                            Traceback (most recent call last)",
      "Input \u001B[0;32mIn [16]\u001B[0m, in \u001B[0;36m<module>\u001B[0;34m\u001B[0m\n\u001B[0;32m----> 1\u001B[0m \u001B[43menv\u001B[49m\u001B[38;5;241;43m.\u001B[39;49m\u001B[43mstep\u001B[49m\u001B[43m(\u001B[49m\u001B[43menv\u001B[49m\u001B[38;5;241;43m.\u001B[39;49m\u001B[43maction_space\u001B[49m\u001B[38;5;241;43m.\u001B[39;49m\u001B[43msample\u001B[49m\u001B[43m(\u001B[49m\u001B[43m)\u001B[49m\u001B[43m)\u001B[49m\n",
      "File \u001B[0;32m~/PycharmProjects/mappo/venv/lib/python3.8/site-packages/gym/core.py:289\u001B[0m, in \u001B[0;36mWrapper.step\u001B[0;34m(self, action)\u001B[0m\n\u001B[1;32m    288\u001B[0m \u001B[38;5;28;01mdef\u001B[39;00m \u001B[38;5;21mstep\u001B[39m(\u001B[38;5;28mself\u001B[39m, action):\n\u001B[0;32m--> 289\u001B[0m     \u001B[38;5;28;01mreturn\u001B[39;00m \u001B[38;5;28;43mself\u001B[39;49m\u001B[38;5;241;43m.\u001B[39;49m\u001B[43menv\u001B[49m\u001B[38;5;241;43m.\u001B[39;49m\u001B[43mstep\u001B[49m\u001B[43m(\u001B[49m\u001B[43maction\u001B[49m\u001B[43m)\u001B[49m\n",
      "File \u001B[0;32m~/PycharmProjects/mappo/venv/lib/python3.8/site-packages/gym/core.py:323\u001B[0m, in \u001B[0;36mObservationWrapper.step\u001B[0;34m(self, action)\u001B[0m\n\u001B[1;32m    322\u001B[0m \u001B[38;5;28;01mdef\u001B[39;00m \u001B[38;5;21mstep\u001B[39m(\u001B[38;5;28mself\u001B[39m, action):\n\u001B[0;32m--> 323\u001B[0m     observation, reward, done, info \u001B[38;5;241m=\u001B[39m \u001B[38;5;28;43mself\u001B[39;49m\u001B[38;5;241;43m.\u001B[39;49m\u001B[43menv\u001B[49m\u001B[38;5;241;43m.\u001B[39;49m\u001B[43mstep\u001B[49m\u001B[43m(\u001B[49m\u001B[43maction\u001B[49m\u001B[43m)\u001B[49m\n\u001B[1;32m    324\u001B[0m     \u001B[38;5;28;01mreturn\u001B[39;00m \u001B[38;5;28mself\u001B[39m\u001B[38;5;241m.\u001B[39mobservation(observation), reward, done, info\n",
      "File \u001B[0;32m~/PycharmProjects/mappo/venv/lib/python3.8/site-packages/gym/core.py:336\u001B[0m, in \u001B[0;36mRewardWrapper.step\u001B[0;34m(self, action)\u001B[0m\n\u001B[1;32m    335\u001B[0m \u001B[38;5;28;01mdef\u001B[39;00m \u001B[38;5;21mstep\u001B[39m(\u001B[38;5;28mself\u001B[39m, action):\n\u001B[0;32m--> 336\u001B[0m     observation, reward, done, info \u001B[38;5;241m=\u001B[39m \u001B[38;5;28;43mself\u001B[39;49m\u001B[38;5;241;43m.\u001B[39;49m\u001B[43menv\u001B[49m\u001B[38;5;241;43m.\u001B[39;49m\u001B[43mstep\u001B[49m\u001B[43m(\u001B[49m\u001B[43maction\u001B[49m\u001B[43m)\u001B[49m\n\u001B[1;32m    337\u001B[0m     \u001B[38;5;28;01mreturn\u001B[39;00m observation, \u001B[38;5;28mself\u001B[39m\u001B[38;5;241m.\u001B[39mreward(reward), done, info\n",
      "File \u001B[0;32m~/PycharmProjects/mappo/venv/lib/python3.8/site-packages/gfootball/env/football_env.py:176\u001B[0m, in \u001B[0;36mFootballEnv.step\u001B[0;34m(self, action)\u001B[0m\n\u001B[1;32m    170\u001B[0m \u001B[38;5;28;01melse\u001B[39;00m:\n\u001B[1;32m    171\u001B[0m   \u001B[38;5;28;01massert\u001B[39;00m \u001B[38;5;28mlen\u001B[39m(\n\u001B[1;32m    172\u001B[0m       action\n\u001B[1;32m    173\u001B[0m   ) \u001B[38;5;241m==\u001B[39m \u001B[38;5;241m0\u001B[39m, \u001B[38;5;124m'\u001B[39m\u001B[38;5;124mstep() received \u001B[39m\u001B[38;5;132;01m{}\u001B[39;00m\u001B[38;5;124m actions, but no agent is playing.\u001B[39m\u001B[38;5;124m'\u001B[39m\u001B[38;5;241m.\u001B[39mformat(\n\u001B[1;32m    174\u001B[0m       \u001B[38;5;28mlen\u001B[39m(action))\n\u001B[0;32m--> 176\u001B[0m _, reward, done, info \u001B[38;5;241m=\u001B[39m \u001B[38;5;28;43mself\u001B[39;49m\u001B[38;5;241;43m.\u001B[39;49m\u001B[43m_env\u001B[49m\u001B[38;5;241;43m.\u001B[39;49m\u001B[43mstep\u001B[49m\u001B[43m(\u001B[49m\u001B[38;5;28;43mself\u001B[39;49m\u001B[38;5;241;43m.\u001B[39;49m\u001B[43m_get_actions\u001B[49m\u001B[43m(\u001B[49m\u001B[43m)\u001B[49m\u001B[43m)\u001B[49m\n\u001B[1;32m    177\u001B[0m score_reward \u001B[38;5;241m=\u001B[39m reward\n\u001B[1;32m    178\u001B[0m \u001B[38;5;28;01mif\u001B[39;00m \u001B[38;5;28mself\u001B[39m\u001B[38;5;241m.\u001B[39m_agent:\n",
      "File \u001B[0;32m~/PycharmProjects/mappo/venv/lib/python3.8/site-packages/gfootball/env/football_env_core.py:154\u001B[0m, in \u001B[0;36mFootballEnvCore.step\u001B[0;34m(self, action, extra_data)\u001B[0m\n\u001B[1;32m    153\u001B[0m \u001B[38;5;28;01mdef\u001B[39;00m \u001B[38;5;21mstep\u001B[39m(\u001B[38;5;28mself\u001B[39m, action, extra_data\u001B[38;5;241m=\u001B[39m{}):\n\u001B[0;32m--> 154\u001B[0m   \u001B[38;5;28;01massert\u001B[39;00m \u001B[38;5;28mself\u001B[39m\u001B[38;5;241m.\u001B[39m_env\u001B[38;5;241m.\u001B[39mstate \u001B[38;5;241m!=\u001B[39m GameState\u001B[38;5;241m.\u001B[39mgame_done, (\n\u001B[1;32m    155\u001B[0m       \u001B[38;5;124m'\u001B[39m\u001B[38;5;124mCant call step() once episode finished (call reset() instead)\u001B[39m\u001B[38;5;124m'\u001B[39m)\n\u001B[1;32m    156\u001B[0m   \u001B[38;5;28;01massert\u001B[39;00m \u001B[38;5;28mself\u001B[39m\u001B[38;5;241m.\u001B[39m_env\u001B[38;5;241m.\u001B[39mstate \u001B[38;5;241m==\u001B[39m GameState\u001B[38;5;241m.\u001B[39mgame_running, (\n\u001B[1;32m    157\u001B[0m       \u001B[38;5;124m'\u001B[39m\u001B[38;5;124mreset() must be called before step()\u001B[39m\u001B[38;5;124m'\u001B[39m)\n\u001B[1;32m    158\u001B[0m   action \u001B[38;5;241m=\u001B[39m [\n\u001B[1;32m    159\u001B[0m       football_action_set\u001B[38;5;241m.\u001B[39mnamed_action_from_action_set(\u001B[38;5;28mself\u001B[39m\u001B[38;5;241m.\u001B[39m_action_set, a)\n\u001B[1;32m    160\u001B[0m       \u001B[38;5;28;01mfor\u001B[39;00m a \u001B[38;5;129;01min\u001B[39;00m action\n\u001B[1;32m    161\u001B[0m   ]\n",
      "\u001B[0;31mAssertionError\u001B[0m: Cant call step() once episode finished (call reset() instead)"
     ]
    }
   ],
   "source": [
    "env.step(env.action_space.sample())"
   ],
   "metadata": {
    "collapsed": false,
    "pycharm": {
     "name": "#%%\n"
    }
   }
  },
  {
   "cell_type": "code",
   "execution_count": 11,
   "outputs": [],
   "source": [
    "results = [[1,2] for i in range(2)]"
   ],
   "metadata": {
    "collapsed": false,
    "pycharm": {
     "name": "#%%\n"
    }
   }
  },
  {
   "cell_type": "code",
   "execution_count": 13,
   "outputs": [],
   "source": [
    "a, b = zip(*results)"
   ],
   "metadata": {
    "collapsed": false,
    "pycharm": {
     "name": "#%%\n"
    }
   }
  },
  {
   "cell_type": "code",
   "execution_count": 16,
   "outputs": [
    {
     "data": {
      "text/plain": "<zip at 0x7fcd9cad5140>"
     },
     "execution_count": 16,
     "metadata": {},
     "output_type": "execute_result"
    }
   ],
   "source": [
    "zip(*results)"
   ],
   "metadata": {
    "collapsed": false,
    "pycharm": {
     "name": "#%%\n"
    }
   }
  },
  {
   "cell_type": "code",
   "execution_count": 20,
   "outputs": [
    {
     "name": "stdout",
     "output_type": "stream",
     "text": [
      "[0. 0.]\n",
      "[0. 0.]\n",
      "[0. 0.]\n"
     ]
    }
   ],
   "source": [
    "x = np.zeros((3,2))\n",
    "for a in x:\n",
    "    print(a)"
   ],
   "metadata": {
    "collapsed": false,
    "pycharm": {
     "name": "#%%\n"
    }
   }
  },
  {
   "cell_type": "code",
   "execution_count": 25,
   "outputs": [
    {
     "ename": "AttributeError",
     "evalue": "'GetStateWrapper' object has no attribute 'config'",
     "output_type": "error",
     "traceback": [
      "\u001B[0;31m---------------------------------------------------------------------------\u001B[0m",
      "\u001B[0;31mAttributeError\u001B[0m                            Traceback (most recent call last)",
      "Input \u001B[0;32mIn [25]\u001B[0m, in \u001B[0;36m<module>\u001B[0;34m\u001B[0m\n\u001B[0;32m----> 1\u001B[0m \u001B[43menv\u001B[49m\u001B[38;5;241;43m.\u001B[39;49m\u001B[38;5;21;43m__getattribute__\u001B[39;49m\u001B[43m(\u001B[49m\u001B[38;5;124;43m\"\u001B[39;49m\u001B[38;5;124;43mconfig\u001B[39;49m\u001B[38;5;124;43m\"\u001B[39;49m\u001B[43m)\u001B[49m\n",
      "\u001B[0;31mAttributeError\u001B[0m: 'GetStateWrapper' object has no attribute 'config'"
     ]
    }
   ],
   "source": [],
   "metadata": {
    "collapsed": false,
    "pycharm": {
     "name": "#%%\n"
    }
   }
  },
  {
   "cell_type": "code",
   "execution_count": null,
   "outputs": [],
   "source": [],
   "metadata": {
    "collapsed": false,
    "pycharm": {
     "name": "#%%\n"
    }
   }
  },
  {
   "cell_type": "code",
   "execution_count": null,
   "outputs": [],
   "source": [],
   "metadata": {
    "collapsed": false,
    "pycharm": {
     "name": "#%%\n"
    }
   }
  },
  {
   "cell_type": "code",
   "execution_count": null,
   "outputs": [],
   "source": [],
   "metadata": {
    "collapsed": false,
    "pycharm": {
     "name": "#%%\n"
    }
   }
  },
  {
   "cell_type": "code",
   "execution_count": null,
   "outputs": [],
   "source": [],
   "metadata": {
    "collapsed": false,
    "pycharm": {
     "name": "#%%\n"
    }
   }
  },
  {
   "cell_type": "code",
   "execution_count": null,
   "outputs": [],
   "source": [],
   "metadata": {
    "collapsed": false,
    "pycharm": {
     "name": "#%%\n"
    }
   }
  },
  {
   "cell_type": "code",
   "execution_count": null,
   "outputs": [],
   "source": [],
   "metadata": {
    "collapsed": false,
    "pycharm": {
     "name": "#%%\n"
    }
   }
  }
 ],
 "metadata": {
  "kernelspec": {
   "display_name": "Python 3",
   "language": "python",
   "name": "python3"
  },
  "language_info": {
   "codemirror_mode": {
    "name": "ipython",
    "version": 2
   },
   "file_extension": ".py",
   "mimetype": "text/x-python",
   "name": "python",
   "nbconvert_exporter": "python",
   "pygments_lexer": "ipython2",
   "version": "2.7.6"
  }
 },
 "nbformat": 4,
 "nbformat_minor": 0
}